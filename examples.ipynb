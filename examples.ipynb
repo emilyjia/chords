{
 "cells": [
  {
   "cell_type": "code",
   "execution_count": 1,
   "metadata": {},
   "outputs": [],
   "source": [
    "from piano import Playlist"
   ]
  },
  {
   "cell_type": "code",
   "execution_count": 4,
   "metadata": {},
   "outputs": [],
   "source": [
    "username = \"1276262582\"\n",
    "playlist_name = \"Chords Project Test\"\n",
    "playlist = Playlist(username, playlist_name)"
   ]
  },
  {
   "cell_type": "code",
   "execution_count": 10,
   "metadata": {},
   "outputs": [
    {
     "name": "stdout",
     "output_type": "stream",
     "text": [
      "Riptide\n",
      "['Em', 'Dadd9', 'G', 'Em', 'Dadd9']\n",
      "Stacy\n",
      "['A', 'E', 'E', 'F#m', 'D']\n"
     ]
    }
   ],
   "source": [
    "titles, chords = playlist.get_playlist_chords()\n",
    "for title, chord in zip(titles, chords):\n",
    "    print(title)\n",
    "    print(chord[:5])"
   ]
  },
  {
   "cell_type": "code",
   "execution_count": 6,
   "metadata": {},
   "outputs": [
    {
     "data": {
      "text/plain": [
       "(['Riptide', 'Stacy'], ['I/V/vi', 'I/IV/V/vi'])"
      ]
     },
     "execution_count": 6,
     "metadata": {},
     "output_type": "execute_result"
    }
   ],
   "source": [
    "playlist.get_playlist_patterns()"
   ]
  }
 ],
 "metadata": {
  "kernelspec": {
   "display_name": "Python [conda env:anaconda-primo]",
   "language": "python",
   "name": "conda-env-anaconda-primo-py"
  },
  "language_info": {
   "codemirror_mode": {
    "name": "ipython",
    "version": 3
   },
   "file_extension": ".py",
   "mimetype": "text/x-python",
   "name": "python",
   "nbconvert_exporter": "python",
   "pygments_lexer": "ipython3",
   "version": "3.6.9"
  }
 },
 "nbformat": 4,
 "nbformat_minor": 2
}
