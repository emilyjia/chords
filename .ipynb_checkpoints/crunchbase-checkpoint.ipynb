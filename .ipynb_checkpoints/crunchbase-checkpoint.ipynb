{
 "cells": [
  {
   "cell_type": "markdown",
   "metadata": {},
   "source": [
    "To improve results:\n",
    "\n",
    "- Allow for minor keys\n",
    "- Add 7 chords and chord identification\n",
    "- Function to get tabs from other websites\n",
    "- Guess the key based on multiple tabs "
   ]
  },
  {
   "cell_type": "code",
   "execution_count": 9,
   "metadata": {},
   "outputs": [
    {
     "data": {
      "text/plain": [
       "True"
      ]
     },
     "execution_count": 9,
     "metadata": {},
     "output_type": "execute_result"
    }
   ],
   "source": [
    "from piano import Piano, Ukutabs, UltimateGuitar\n",
    "from bs4 import BeautifulSoup\n",
    "from requests import get\n",
    "from collections import Counter\n",
    "import re\n",
    "from dotenv import load_dotenv\n",
    "import spotipy\n",
    "import spotipy.util as util\n",
    "load_dotenv()"
   ]
  },
  {
   "cell_type": "code",
   "execution_count": 5,
   "metadata": {},
   "outputs": [],
   "source": [
    "import json\n",
    "\n",
    "def get_chords_from_url(url):\n",
    "    response = get(url)\n",
    "    soup = BeautifulSoup(response.text)\n",
    "    chords = str(soup).split(\"[tab]\", 1)[1].split(\"[ch]\")\n",
    "    clean_chords = []\n",
    "    for i, chord in enumerate(chords):\n",
    "        if \"[/ch]\" in chord: \n",
    "            clean_chords.append(chord.split(\"[/ch]\")[0])\n",
    "    return clean_chords\n",
    "\n",
    "def get_ultimate_guitar_chords(artist, song_name):\n",
    "    found = False\n",
    "    # remove anything after \"(\" or \"-\"\n",
    "    song_name = song_name.split(\" (\")[0]\n",
    "    song_name = song_name.split(\" -\")[0]\n",
    "    # remove punctuation\n",
    "    song_name = re.sub(r'[^a-zA-Z ]', '', song_name)\n",
    "    url = \"https://www.ultimate-guitar.com/search.php?search_type=title&value=\"\n",
    "    for word in artist.split(\" \") + song_name.split(\" \"):\n",
    "        url += word\n",
    "        url += \"%20\"\n",
    "    response = get(url)\n",
    "    soup = BeautifulSoup(response.text)\n",
    "    chords_div = soup.find_all(\"div\", {\"class\": \"js-store\"})[0]\n",
    "    d= json.loads(chords_div.get(\"data-content\"))   \n",
    "    for song in d[\"store\"][\"page\"][\"data\"][\"results\"]:\n",
    "        song_url = song[\"tab_url\"]\n",
    "        if song_name.lower() in song[\"song_name\"].lower() and \"/pro/\" not in song_url:\n",
    "            return get_chords_from_url(song_url)\n",
    "    "
   ]
  },
  {
   "cell_type": "code",
   "execution_count": 44,
   "metadata": {},
   "outputs": [],
   "source": [
    "username = \"1276262582\"\n",
    "token = util.prompt_for_user_token(username)\n",
    "\n",
    "def show_tracks(results):\n",
    "    artists = []\n",
    "    songs = []\n",
    "    for i, item in enumerate(results['items']):\n",
    "        track = item['track']\n",
    "        artists.append(track['artists'][0]['name'])\n",
    "        songs.append(track['name'])\n",
    "    return list(zip(artists, songs))\n",
    "\n",
    "sp = spotipy.Spotify(auth=token)\n",
    "playlist_id = \"2NRcW7pcfsZ67qtTq2UItU\"\n",
    "\n",
    "results = sp.playlist(playlist_id, fields=\"tracks,next\")\n",
    "tracks = results['tracks']\n",
    "playlist_chords = []\n",
    "titles = []\n",
    "for artist, title in show_tracks(tracks):\n",
    "    chords = get_ultimate_guitar_chords(artist, title)\n",
    "    if chords:\n",
    "        playlist_chords.append(chords)\n",
    "        titles.append(title)"
   ]
  },
  {
   "cell_type": "code",
   "execution_count": 45,
   "metadata": {},
   "outputs": [],
   "source": [
    "piano = Piano()\n",
    "chord_numbers = list(map(piano.get_chord_numbers, playlist_chords))\n",
    "patterns = list(map(get_pattern, chord_numbers))"
   ]
  },
  {
   "cell_type": "code",
   "execution_count": 51,
   "metadata": {},
   "outputs": [],
   "source": [
    "most_common_pattern = list(map(lambda x: x[0].most_common(1)[0][0], patterns))"
   ]
  },
  {
   "cell_type": "code",
   "execution_count": 52,
   "metadata": {},
   "outputs": [
    {
     "data": {
      "text/plain": [
       "[('Don\\'t Give Up On Me - (From \"Five Feet Apart\")', 'I/IV/V/vi'),\n",
       " ('Cemetery', 'I/V/iii/vi'),\n",
       " ('All Your Days', 'IV/vi'),\n",
       " ('High Above Chicago', 'I/IV/V/ii/vi'),\n",
       " ('Handlebars', 'V/i/iii/vi'),\n",
       " ('Hide and Seek', 'I/IV/V/vi'),\n",
       " ('Someone To You', 'I/IV/V/vi'),\n",
       " ('Unmiss You', 'I/IV/V/vi'),\n",
       " ('Loved You Once', 'IV/V/vi'),\n",
       " ('dancing around', 'V/iii/vi'),\n",
       " ('tomorrow tonight', 'I/IV/V/vi'),\n",
       " ('Narcissist (feat. The 1975)', 'I/IV/V/vi'),\n",
       " ('Crash My Car', 'I/IV'),\n",
       " ('Can I Call You Tonight?', 'IV/iv'),\n",
       " (\"Now You're Gone (feat. Zara Larsson)\", 'IV/iii/vi'),\n",
       " ('Stacy - Acoustic', 'I/IV/V/vi'),\n",
       " ('If the World Was Ending - feat. Julia Michaels', 'I/IV/V/vi'),\n",
       " ('Happy', 'I/IV/V/vi'),\n",
       " ('heaven come', 'I/V/iii'),\n",
       " ('Stay Forever (feat. STRFKR)', 'I/II/IV/V'),\n",
       " ('Drugs', 'I/IV'),\n",
       " ('Broken Bones', 'I/IV/V/vi'),\n",
       " ('Nostalgic', 'I/IV/V/ii/vi'),\n",
       " ('Mr Blue', 'I/IV/V'),\n",
       " ('Sad Together', 'I/II/V/vi'),\n",
       " ('One Of The Boys', 'II/V/VI/iii'),\n",
       " ('A Real Hero', 'I/IV/V/vi'),\n",
       " ('the broken hearts club', 'I/IV/V/vi'),\n",
       " (\"It's Strange - Melvv Remix\", 'I/IV/V/vi'),\n",
       " ('33 Days (feat. gnash & Anna Clendening)', 'I/IV/iii/vi'),\n",
       " ('Selfish', 'I/III/IV/iv'),\n",
       " ('Nervous (The Ooh Song) - Mark McCabe Remix', 'I/IV/vi'),\n",
       " ('Lemon Eyes', 'I/IV/V/vi'),\n",
       " ('Older', 'I/V/ii'),\n",
       " ('Thunderclouds - Lost Frequencies Remix', 'I/IV/V/vi'),\n",
       " ('Intentions', 'IV/vi'),\n",
       " ('Billy', 'I/IV/V/vi'),\n",
       " ('For Now', 'I/IV/V/vi'),\n",
       " ('Invisible Things', 'I/IV/V/vi'),\n",
       " ('head first', 'I/VII/iii/vi'),\n",
       " ('Archie, Marry Me', 'I/II/V/vi'),\n",
       " ('Team', 'I/IV/V/vi'),\n",
       " ('400 Lux', 'I/IV/iii'),\n",
       " ('Buzzcut Season', 'IV/vi'),\n",
       " ('Ribs', 'I/IV'),\n",
       " ('Make You Mine', 'I/IV/iii/vi'),\n",
       " ('End of Time', 'I/II/V/iii/vi'),\n",
       " ('chateau', 'I/II/iii/vi'),\n",
       " ('Reasons Not To Die - Demo', 'I/III/IV/vi'),\n",
       " ('Sober Up (feat. Rivers Cuomo)', 'I/IV/V/vi'),\n",
       " ('Mess', 'I/IV/V/vi'),\n",
       " ('Hit the Back', 'I/V/VI/iii'),\n",
       " (\"I'll Wait\", 'I/IV/vi'),\n",
       " ('Little Things (with Quinn XCII & Chelsea Cutler)', 'IV/V'),\n",
       " ('Break My Heart', 'I/V/vi'),\n",
       " ('Stained Glass', 'III/IV/V/vi'),\n",
       " ('Curious', 'I/V/iii'),\n",
       " ('Sad Corny Fuck', 'IV/V/vi'),\n",
       " ('3 Minutes', 'I/IV/V/ii'),\n",
       " ('La La Land (feat. YG)', 'I/V/iii/vi'),\n",
       " ('okay', 'I/IV'),\n",
       " ('Merry Happy', 'I/V/VII/vi'),\n",
       " ('lowkey', 'I/IV'),\n",
       " ('Sugarplum Elegy', 'I/V/VI/ii'),\n",
       " ('100 Degrees', 'I/III/IV'),\n",
       " ('Moral of the Story', 'III/VII/iii'),\n",
       " (\"that's just how it goes\", 'IV/V/vi'),\n",
       " ('About Love - From The Netflix Film “To All The Boys: P.S. I Still Love You”',\n",
       "  'I/IV/V/vi'),\n",
       " ('death bed (coffee for your head) (feat. beabadoobee)', 'I/IV/iii/iv'),\n",
       " ('lost', 'I/IV/V/vi'),\n",
       " ('Stupid Deep', 'IV/vi'),\n",
       " ('If You Need Me', 'I/IV/V/vi')]"
      ]
     },
     "execution_count": 52,
     "metadata": {},
     "output_type": "execute_result"
    }
   ],
   "source": [
    "list(zip(titles, most_common_pattern))"
   ]
  },
  {
   "cell_type": "code",
   "execution_count": 53,
   "metadata": {},
   "outputs": [
    {
     "data": {
      "text/plain": [
       "Counter({'I/IV/V/vi': 24,\n",
       "         'I/V/iii/vi': 2,\n",
       "         'IV/vi': 4,\n",
       "         'I/IV/V/ii/vi': 2,\n",
       "         'V/i/iii/vi': 1,\n",
       "         'IV/V/vi': 3,\n",
       "         'V/iii/vi': 1,\n",
       "         'I/IV': 5,\n",
       "         'IV/iv': 1,\n",
       "         'IV/iii/vi': 1,\n",
       "         'I/V/iii': 2,\n",
       "         'I/II/IV/V': 1,\n",
       "         'I/IV/V': 1,\n",
       "         'I/II/V/vi': 2,\n",
       "         'II/V/VI/iii': 1,\n",
       "         'I/IV/iii/vi': 2,\n",
       "         'I/III/IV/iv': 1,\n",
       "         'I/IV/vi': 2,\n",
       "         'I/V/ii': 1,\n",
       "         'I/VII/iii/vi': 1,\n",
       "         'I/IV/iii': 1,\n",
       "         'I/II/V/iii/vi': 1,\n",
       "         'I/II/iii/vi': 1,\n",
       "         'I/III/IV/vi': 1,\n",
       "         'I/V/VI/iii': 1,\n",
       "         'IV/V': 1,\n",
       "         'I/V/vi': 1,\n",
       "         'III/IV/V/vi': 1,\n",
       "         'I/IV/V/ii': 1,\n",
       "         'I/V/VII/vi': 1,\n",
       "         'I/V/VI/ii': 1,\n",
       "         'I/III/IV': 1,\n",
       "         'III/VII/iii': 1,\n",
       "         'I/IV/iii/iv': 1})"
      ]
     },
     "execution_count": 53,
     "metadata": {},
     "output_type": "execute_result"
    }
   ],
   "source": [
    "Counter(map(lambda x: x[0].most_common(1)[0][0], patterns))"
   ]
  },
  {
   "cell_type": "code",
   "execution_count": 19,
   "metadata": {},
   "outputs": [
    {
     "ename": "NameError",
     "evalue": "name 'judge_url' is not defined",
     "output_type": "error",
     "traceback": [
      "\u001b[0;31m---------------------------------------------------------------------------\u001b[0m",
      "\u001b[0;31mNameError\u001b[0m                                 Traceback (most recent call last)",
      "\u001b[0;32m<ipython-input-19-98fbfd96328e>\u001b[0m in \u001b[0;36m<module>\u001b[0;34m\u001b[0m\n\u001b[1;32m     27\u001b[0m     \u001b[0;32mreturn\u001b[0m \u001b[0;34m(\u001b[0m\u001b[0mbest_pattern\u001b[0m\u001b[0;34m,\u001b[0m \u001b[0mbest_pattern_length\u001b[0m\u001b[0;34m)\u001b[0m\u001b[0;34m\u001b[0m\u001b[0;34m\u001b[0m\u001b[0m\n\u001b[1;32m     28\u001b[0m \u001b[0;34m\u001b[0m\u001b[0m\n\u001b[0;32m---> 29\u001b[0;31m \u001b[0murls\u001b[0m \u001b[0;34m=\u001b[0m \u001b[0;34m[\u001b[0m\u001b[0mjudge_url\u001b[0m\u001b[0;34m,\u001b[0m \u001b[0mshape_of_you_url\u001b[0m\u001b[0;34m,\u001b[0m \u001b[0mriptide_url\u001b[0m\u001b[0;34m]\u001b[0m\u001b[0;34m\u001b[0m\u001b[0;34m\u001b[0m\u001b[0m\n\u001b[0m\u001b[1;32m     30\u001b[0m \u001b[0mchords\u001b[0m \u001b[0;34m=\u001b[0m \u001b[0;34m[\u001b[0m\u001b[0mget_chords\u001b[0m\u001b[0;34m(\u001b[0m\u001b[0murl\u001b[0m\u001b[0;34m)\u001b[0m \u001b[0;32mfor\u001b[0m \u001b[0murl\u001b[0m \u001b[0;32min\u001b[0m \u001b[0murls\u001b[0m\u001b[0;34m]\u001b[0m\u001b[0;34m\u001b[0m\u001b[0;34m\u001b[0m\u001b[0m\n\u001b[1;32m     31\u001b[0m \u001b[0mkeys\u001b[0m \u001b[0;34m=\u001b[0m \u001b[0;34m[\u001b[0m\u001b[0mget_key_from_chords\u001b[0m\u001b[0;34m(\u001b[0m\u001b[0mchord\u001b[0m\u001b[0;34m)\u001b[0m \u001b[0;32mfor\u001b[0m \u001b[0mchord\u001b[0m \u001b[0;32min\u001b[0m \u001b[0mchords\u001b[0m\u001b[0;34m]\u001b[0m\u001b[0;34m\u001b[0m\u001b[0;34m\u001b[0m\u001b[0m\n",
      "\u001b[0;31mNameError\u001b[0m: name 'judge_url' is not defined"
     ]
    }
   ],
   "source": [
    "# should be replaced by pattern mining? \n",
    "\n",
    "def get_pattern(chord_numbers):\n",
    "    best_pattern_freq = 0\n",
    "    best_pattern = None\n",
    "    best_pattern_length = 0\n",
    "    for pattern_length in range(2, 7):\n",
    "        # looks at chord progressions of length pattern_length\n",
    "        lines = [chord_numbers[i: i+pattern_length] for i in range(len(chord_numbers) - pattern_length)]\n",
    "        filtered_lines = []\n",
    "        # sort each chord progression and keep if distinct\n",
    "        for line in lines:\n",
    "            line.sort()\n",
    "            distinct = True\n",
    "            for j in range(len(line) - 1):\n",
    "                distinct = distinct and (line[j] != line[j+1])\n",
    "            if distinct:\n",
    "                filtered_lines.append(\"/\".join(line))\n",
    "        # note frequency of most common chord progression\n",
    "        if len(filtered_lines) > 0:\n",
    "            freqs = Counter(filtered_lines)\n",
    "            pattern, freq = freqs.most_common(1)[0]\n",
    "            if freq > best_pattern_freq:\n",
    "                best_pattern_freq = freq\n",
    "                best_pattern = freqs\n",
    "                best_pattern_length = pattern_length\n",
    "    return (best_pattern, best_pattern_length)\n",
    "\n",
    "urls = [judge_url, shape_of_you_url, riptide_url]\n",
    "chords = [get_chords(url) for url in urls]\n",
    "keys = [get_key_from_chords(chord) for chord in chords]\n",
    "chord_numbers = [get_chord_numbers(x[0], x[1]) for x in zip(chords, keys)]\n",
    "pattern_lengths = [get_pattern(chord_number)[1] for chord_number in chord_numbers]\n",
    "\n",
    "assert(pattern_lengths == [4, 4, 3])"
   ]
  },
  {
   "cell_type": "code",
   "execution_count": 163,
   "metadata": {},
   "outputs": [],
   "source": [
    "def show_tracks(results):\n",
    "    artists = []\n",
    "    songs = []\n",
    "    for i, item in enumerate(results['items']):\n",
    "        track = item['track']\n",
    "        artists.append(track['artists'][0]['name'])\n",
    "        songs.append(track['name'])\n",
    "    return list(zip(artists, songs))\n",
    "\n",
    "results = show_tracks(tracks)"
   ]
  }
 ],
 "metadata": {
  "kernelspec": {
   "display_name": "Python [conda env:anaconda-primo]",
   "language": "python",
   "name": "conda-env-anaconda-primo-py"
  },
  "language_info": {
   "codemirror_mode": {
    "name": "ipython",
    "version": 3
   },
   "file_extension": ".py",
   "mimetype": "text/x-python",
   "name": "python",
   "nbconvert_exporter": "python",
   "pygments_lexer": "ipython3",
   "version": "3.6.9"
  }
 },
 "nbformat": 4,
 "nbformat_minor": 2
}
