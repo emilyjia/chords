{
 "cells": [
  {
   "cell_type": "markdown",
   "metadata": {},
   "source": [
    "To get this running:\n",
    "\n",
    "- Function to get uku tabs given song\n",
    "- Function to get songs from spotify playlist\n",
    "\n",
    "To improve results:\n",
    "\n",
    "- Allow for minor keys\n",
    "- Add 7 chords and chord identification\n",
    "- Function to get tabs from other websites\n",
    "- Guess the key based on multiple tabs \n",
    "\n",
    "To clean up code:\n",
    "\n",
    "- Write piano as a class\n",
    "- Put tests in a reasonable place"
   ]
  },
  {
   "cell_type": "code",
   "execution_count": 1,
   "metadata": {},
   "outputs": [],
   "source": [
    "from bs4 import BeautifulSoup\n",
    "from requests import get\n",
    "from collections import Counter\n",
    "import re"
   ]
  },
  {
   "cell_type": "code",
   "execution_count": 2,
   "metadata": {},
   "outputs": [],
   "source": [
    "url = \"https://ukutabs.com/top-tabs/99-most-popular-ukulele-songs/all-time/\"\n",
    "response = get(url)\n",
    "soup = BeautifulSoup(response.text)\n",
    "urls = []\n",
    "for link in soup.find_all('a'):\n",
    "    link = link.get('href')\n",
    "    if link and \"https://ukutabs\" in link:\n",
    "        urls.append(link)\n",
    "urls = list(set(urls))"
   ]
  },
  {
   "cell_type": "code",
   "execution_count": null,
   "metadata": {},
   "outputs": [],
   "source": [
    "def get_key_from_chords(self, chords):\n",
    "    key_frequencies = Counter()\n",
    "    for chord in chords:\n",
    "        chord_major_keys = self.chord_to_major_key(chord)\n",
    "        for key in chord_major_keys:\n",
    "            key_frequencies[key] += 1\n",
    "    return key_frequencies.most_common(1)[0][0]"
   ]
  },
  {
   "cell_type": "code",
   "execution_count": 131,
   "metadata": {},
   "outputs": [],
   "source": [
    "# should be replaced by pattern mining? \n",
    "\n",
    "def get_pattern(chord_numbers):\n",
    "    best_pattern_freq = 0\n",
    "    best_pattern = None\n",
    "    best_pattern_length = 0\n",
    "    for pattern_length in range(2, 7):\n",
    "        # looks at chord progressions of length pattern_length\n",
    "        lines = [chord_numbers[i: i+pattern_length] for i in range(len(chord_numbers) - pattern_length)]\n",
    "        filtered_lines = []\n",
    "        # sort each chord progression and keep if distinct\n",
    "        for line in lines:\n",
    "            line.sort()\n",
    "            distinct = True\n",
    "            for j in range(len(line) - 1):\n",
    "                distinct = distinct and (line[j] != line[j+1])\n",
    "            if distinct:\n",
    "                filtered_lines.append(\"\".join(line))\n",
    "        # note frequency of most common chord progression\n",
    "        if len(filtered_lines) > 0:\n",
    "            freqs = Counter(filtered_lines)\n",
    "            pattern, freq = freqs.most_common(1)[0]\n",
    "            if freq > best_pattern_freq:\n",
    "                best_pattern_freq = freq\n",
    "                best_pattern = freqs\n",
    "                best_pattern_length = pattern_length\n",
    "    return (best_pattern, best_pattern_length)\n",
    "\n",
    "urls = [judge_url, shape_of_you_url, riptide_url]\n",
    "chords = [get_chords(url) for url in urls]\n",
    "keys = [get_key_from_chords(chord) for chord in chords]\n",
    "chord_numbers = [get_chord_numbers(x[0], x[1]) for x in zip(chords, keys)]\n",
    "pattern_lengths = [get_pattern(chord_number)[1] for chord_number in chord_numbers]\n",
    "\n",
    "assert(pattern_lengths == [4, 4, 3])"
   ]
  },
  {
   "cell_type": "code",
   "execution_count": null,
   "metadata": {},
   "outputs": [],
   "source": []
  }
 ],
 "metadata": {
  "kernelspec": {
   "display_name": "Python [conda env:anaconda-primo]",
   "language": "python",
   "name": "conda-env-anaconda-primo-py"
  },
  "language_info": {
   "codemirror_mode": {
    "name": "ipython",
    "version": 3
   },
   "file_extension": ".py",
   "mimetype": "text/x-python",
   "name": "python",
   "nbconvert_exporter": "python",
   "pygments_lexer": "ipython3",
   "version": "3.6.9"
  }
 },
 "nbformat": 4,
 "nbformat_minor": 2
}
